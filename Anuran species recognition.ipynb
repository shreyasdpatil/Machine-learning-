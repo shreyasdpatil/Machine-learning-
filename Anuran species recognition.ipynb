{
 "cells": [
  {
   "cell_type": "markdown",
   "metadata": {},
   "source": [
    "#                                           Anuran Species Recognition                   \n",
    "###                                                                                                                                                       Shreyas Dinesh Patil"
   ]
  },
  {
   "cell_type": "markdown",
   "metadata": {},
   "source": [
    "(a) Download the Anuran Calls (MFCCs) Data Set from: https://archive.ics.uci.edu/ml/datasets/Anuran+Calls+%28MFCCs). Choose 70% of the data randomly as the training set."
   ]
  },
  {
   "cell_type": "markdown",
   "metadata": {},
   "source": [
    "(b) Each instance has three labels: Families, Genus, and Species. Each of the labels has multiple classes. We wish to solve a multi-class and multi-label problem. One of the most important approaches to multi-class classification is to train a classifier for each label. We first try this approach:"
   ]
  },
  {
   "cell_type": "code",
   "execution_count": 3,
   "metadata": {},
   "outputs": [],
   "source": [
    "import pandas as pd\n",
    "import numpy as np\n",
    "from sklearn.model_selection import train_test_split, cross_val_score\n",
    "from sklearn import svm\n",
    "from skmultilearn.problem_transform import BinaryRelevance\n",
    "from sklearn.metrics import hamming_loss, accuracy_score\n",
    "from sklearn.preprocessing import MultiLabelBinarizer, LabelEncoder\n",
    "import math\n",
    "from imblearn.over_sampling import SMOTE"
   ]
  },
  {
   "cell_type": "code",
   "execution_count": 5,
   "metadata": {},
   "outputs": [],
   "source": [
    "df = pd.read_csv('Frogs_MFCCs.csv')\n",
    "X = df.drop(labels=['RecordID', 'Family', 'Genus', 'Species'] , axis=1)\n",
    "\n",
    "y = pd.DataFrame(df, columns = ['Family', 'Genus', 'Species'])\n",
    "\n",
    "X_train, X_test, y_train, y_test = train_test_split(X, y, test_size=0.3)\n",
    "#Train labels\n",
    "y1_trn = y_train['Family']\n",
    "y2_trn = y_train['Genus']\n",
    "y3_trn = y_train['Species']\n",
    "#Test labels\n",
    "y1_tst = y_test['Family']\n",
    "y2_tst = y_test['Genus']\n",
    "y3_tst = y_test['Species']\n",
    "\n",
    "#Encoding labels\n",
    "\n",
    "y1_trn = y1_trn.astype('category')\n",
    "y2_trn = y2_trn.astype('category')\n",
    "y3_trn = y3_trn.astype('category')\n",
    "y1_trnc = y1_trn.cat.codes\n",
    "y2_trnc = y2_trn.cat.codes\n",
    "y3_trnc = y3_trn.cat.codes\n",
    "\n",
    "y1_tst = y1_tst.astype('category')\n",
    "y2_tst = y2_tst.astype('category')\n",
    "y3_tst = y3_tst.astype('category')\n",
    "y1_tstc = y1_tst.cat.codes\n",
    "y2_tstc = y2_tst.cat.codes\n",
    "y3_tstc = y3_tst.cat.codes\n",
    "y_tstc = pd.concat([y1_tstc, y2_tstc, y3_tstc], axis=1)"
   ]
  },
  {
   "cell_type": "markdown",
   "metadata": {},
   "source": [
    "(ii) Training a SVM for each of the labels, using Gaussian kernels and one versus all classifiers. Determining the weight of the SVM penalty and the width of the Gaussian Kernel using 10 fold cross validation."
   ]
  },
  {
   "cell_type": "code",
   "execution_count": 9,
   "metadata": {},
   "outputs": [
    {
     "name": "stdout",
     "output_type": "stream",
     "text": [
      "The weight of SVM penalty for 1st classifier is: 100\n",
      "The width of the Gaussian kernel for 1st classifier is: 2.0\n",
      "The weight of SVM penalty for 2nd classifier is: 10\n",
      "The width of the Gaussian kernel for 2nd classifier is: 1.3888888888888888\n",
      "The weight of SVM penalty for 3rd classifier is: 10\n",
      "The width of the Gaussian kernel for 3rd classifier is: 1.3888888888888888\n"
     ]
    }
   ],
   "source": [
    "#For all labels\n",
    "\n",
    "best_score1 = 0\n",
    "best_score2 = 0\n",
    "best_score3 = 0\n",
    "accuracy_score1 = list()\n",
    "accuracy_score2 = list()\n",
    "accuracy_score3 = list()\n",
    "\n",
    "for log_c in range(-3,4):\n",
    "    sigma = .1\n",
    "    while sigma<=2:  \n",
    "        g = 1/(2*(sigma**2))\n",
    "        c = 10**log_c\n",
    "        clfr = svm.SVC(C=c, decision_function_shape='ovr', gamma=g)\n",
    "        accuracy_score1.append(cross_val_score(clfr, X_train, y1_trnc, cv=10, scoring='accuracy').mean())\n",
    "        accuracy_score2.append(cross_val_score(clfr, X_train, y2_trnc, cv=10, scoring='accuracy').mean())\n",
    "        accuracy_score3.append(cross_val_score(clfr, X_train, y3_trnc, cv=10, scoring='accuracy').mean())\n",
    "        accuracy1 = max(accuracy_score1)\n",
    "        accuracy2 = max(accuracy_score2)\n",
    "        accuracy3 = max(accuracy_score3)\n",
    "        sigma = sigma + .1\n",
    "        if accuracy1 > best_score1:\n",
    "            best_score1 = accuracy1\n",
    "            best_c1 = c\n",
    "            best_gamma1 = g\n",
    "        if accuracy2 > best_score2:\n",
    "            best_score2 = accuracy2\n",
    "            best_c2 = c\n",
    "            best_gamma2 = g\n",
    "        if accuracy3 > best_score3:\n",
    "            best_score3 = accuracy3\n",
    "            best_c3 = c\n",
    "            best_gamma3 = g\n",
    "        \n",
    "print('The weight of SVM penalty for 1st classifier is:', best_c1)\n",
    "print('The width of the Gaussian kernel for 1st classifier is:', best_gamma1)\n",
    "\n",
    "print('The weight of SVM penalty for 2nd classifier is:', best_c2)\n",
    "print('The width of the Gaussian kernel for 2nd classifier is:', best_gamma2)\n",
    "\n",
    "print('The weight of SVM penalty for 3rd classifier is:', best_c3)\n",
    "print('The width of the Gaussian kernel for 3rd classifier is:', best_gamma3)"
   ]
  },
  {
   "cell_type": "code",
   "execution_count": 10,
   "metadata": {},
   "outputs": [],
   "source": [
    "#Training for label1\n",
    "clfr = svm.SVC(C=best_c1, decision_function_shape='ovr', gamma=best_gamma1)\n",
    "clfr.fit(X_train, y1_trnc)\n",
    "\n",
    "#Prediction for label1\n",
    "y1pred = clfr.predict(X_test)\n",
    "\n",
    "#Training for label2\n",
    "clfr = svm.SVC(C=best_c2, decision_function_shape='ovr', gamma=best_gamma2)\n",
    "clfr.fit(X_train, y2_trnc)\n",
    "\n",
    "#Prediction for label2\n",
    "y2pred = clfr.predict(X_test)\n",
    "\n",
    "#Training for label3\n",
    "clfr = svm.SVC(C=best_c3, decision_function_shape='ovr', gamma=best_gamma3)\n",
    "clfr.fit(X_train, y3_trnc)\n",
    "\n",
    "#Prediction for label3\n",
    "y3pred = clfr.predict(X_test)\n",
    "\n",
    "#Dataframe of predicted labels\n",
    "y1pred = pd.DataFrame(y1pred, columns= [0])\n",
    "y2pred = pd.DataFrame(y2pred, columns= [1])\n",
    "y3pred = pd.DataFrame(y3pred, columns= [2])\n",
    "\n",
    "ypred = pd.concat([y1pred, y2pred, y3pred], axis=1)"
   ]
  },
  {
   "cell_type": "code",
   "execution_count": 11,
   "metadata": {
    "scrolled": true
   },
   "outputs": [],
   "source": [
    "#Function for Hamming_scores and exact_match\n",
    "\n",
    "def hamming_score(y_tstc, ypred):\n",
    "    loss = 0\n",
    "    for i in range(0, len(y_tstc)):\n",
    "        losscore = 0\n",
    "        for j in range(0, 3):\n",
    "            if y_tstc.iloc[i, j] != ypred.iloc[i, j]:\n",
    "               losscore = losscore + 1 \n",
    "            losscore = losscore/3\n",
    "            loss = loss + losscore\n",
    "    loss = loss/(len(y_tstc))\n",
    "    return(loss)\n",
    "\n",
    "def exact_match(y_tstc, ypred):\n",
    "    exactmatch = 0\n",
    "    for i in range(0, len(y_tstc)):\n",
    "        if ypred.iloc[i, 0]==y_tstc.iloc[i, 0] and ypred.iloc[i, 1]==y_tstc.iloc[i, 1] and ypred.iloc[i, 2]==y_tstc.iloc[i, 2]:\n",
    "            exactmatch = exactmatch + 1\n",
    "    exactmatch = exactmatch/(len(y_tstc))\n",
    "    return exactmatch"
   ]
  },
  {
   "cell_type": "code",
   "execution_count": 12,
   "metadata": {},
   "outputs": [
    {
     "name": "stdout",
     "output_type": "stream",
     "text": [
      "The Hamming loss for svm with gaussian kernel is 0.009949736675072474\n",
      "The exact match for svm with gaussian kernel is 0.9874942102825383\n"
     ]
    }
   ],
   "source": [
    "#Evaluating the classifier\n",
    "\n",
    "#Hamming loss\n",
    "hmloss = hamming_score(y_tstc, ypred)\n",
    "print('The Hamming loss for svm with gaussian kernel is', hmloss)\n",
    "\n",
    "#Exact match\n",
    "exactscore = exact_match(y_tstc, ypred)\n",
    "print('The exact match for svm with gaussian kernel is', exactscore)"
   ]
  },
  {
   "cell_type": "markdown",
   "metadata": {},
   "source": [
    "b(iii) Repeat 1(b)ii with L1-penalized SVMs. "
   ]
  },
  {
   "cell_type": "code",
   "execution_count": 13,
   "metadata": {},
   "outputs": [
    {
     "name": "stdout",
     "output_type": "stream",
     "text": [
      "The weight of L1-penalized SVM for 1st classifier is: 100\n",
      "The weight of L1-penalized SVM for 2nd classifier is: 10\n",
      "The weight of L1-penalized SVM for 3rd classifier is: 10\n"
     ]
    }
   ],
   "source": [
    "#For all labels\n",
    "\n",
    "best_score1 = 0\n",
    "best_score2 = 0\n",
    "best_score3 = 0\n",
    "accuracy_score1 = list()\n",
    "accuracy_score2 = list()\n",
    "accuracy_score3 = list()\n",
    "\n",
    "for log_c in range(-3,4):\n",
    "    c = 10**log_c\n",
    "    linclfr = svm.LinearSVC(C=c, penalty='l1', dual=False, multi_class='ovr')\n",
    "    accuracy_score1.append(cross_val_score(linclfr, X_train, y1_trnc, cv=10, scoring='accuracy').mean())\n",
    "    accuracy_score2.append(cross_val_score(linclfr, X_train, y2_trnc, cv=10, scoring='accuracy').mean())\n",
    "    accuracy_score3.append(cross_val_score(linclfr, X_train, y3_trnc, cv=10, scoring='accuracy').mean())\n",
    "    accuracy1 = max(accuracy_score1)\n",
    "    accuracy2 = max(accuracy_score2)\n",
    "    accuracy3 = max(accuracy_score3)\n",
    "    if accuracy1>best_score1:\n",
    "       best_score1 = accuracy1\n",
    "       best_c1 = c\n",
    "    if accuracy2>best_score2:\n",
    "       best_score2 = accuracy2\n",
    "       best_c2 = c\n",
    "    if accuracy3>best_score3:\n",
    "       best_score3 = accuracy3\n",
    "       best_c3 = c\n",
    "        \n",
    "\n",
    "print('The weight of L1-penalized SVM for 1st classifier is:', best_c1)\n",
    "print('The weight of L1-penalized SVM for 2nd classifier is:', best_c2)\n",
    "print('The weight of L1-penalized SVM for 3rd classifier is:', best_c3)"
   ]
  },
  {
   "cell_type": "code",
   "execution_count": 23,
   "metadata": {},
   "outputs": [],
   "source": [
    "#Training for label1\n",
    "linclfr1 = svm.LinearSVC(C=best_c1, penalty='l1', dual=False, multi_class='ovr')\n",
    "linclfr1.fit(X_train, y1_trnc)\n",
    "\n",
    "#Prediction for label1\n",
    "y1pred = linclfr1.predict(X_test)\n",
    "\n",
    "#Training for label2\n",
    "linclfr2 = svm.LinearSVC(C=best_c2, penalty='l1', dual=False, multi_class='ovr')\n",
    "linclfr2.fit(X_train, y2_trnc)\n",
    "\n",
    "#Prediction for label2\n",
    "y2pred = linclfr2.predict(X_test)\n",
    "\n",
    "#Training for label3\n",
    "linclfr3 = svm.LinearSVC(C=best_c3, penalty='l1', dual=False, multi_class='ovr')\n",
    "linclfr3.fit(X_train, y3_trnc)\n",
    "\n",
    "#Prediction for label3\n",
    "y3pred = linclfr3.predict(X_test)\n",
    "\n",
    "#Dataframe of predicted labels\n",
    "y1pred = pd.DataFrame(y1pred, columns= [0])\n",
    "y2pred = pd.DataFrame(y2pred, columns= [1])\n",
    "y3pred = pd.DataFrame(y3pred, columns= [2])\n",
    "\n",
    "ypred = pd.concat([y1pred, y2pred, y3pred], axis=1)"
   ]
  },
  {
   "cell_type": "code",
   "execution_count": 24,
   "metadata": {},
   "outputs": [
    {
     "name": "stdout",
     "output_type": "stream",
     "text": [
      "The Hamming loss for Linear SVC is 0.0653423224057778\n",
      "The exact match for Linear SVC is 0.9189439555349699\n"
     ]
    }
   ],
   "source": [
    "#Evaluating the classifier\n",
    "\n",
    "#Hamming loss\n",
    "hmloss = hamming_score(y_tstc, ypred)\n",
    "print('The Hamming loss for Linear SVC is', hmloss)\n",
    "\n",
    "#Exact match\n",
    "exactscore = exact_match(y_tstc, ypred)\n",
    "print('The exact match for Linear SVC is', exactscore)"
   ]
  },
  {
   "cell_type": "markdown",
   "metadata": {},
   "source": [
    "b(iv) Repeat 1(b)iii by using SMOTE to counter class imbalance."
   ]
  },
  {
   "cell_type": "code",
   "execution_count": 16,
   "metadata": {
    "scrolled": true
   },
   "outputs": [
    {
     "name": "stdout",
     "output_type": "stream",
     "text": [
      "The weight of L1-penalized SVM for 1st classifier is: 10\n",
      "The weight of L1-penalized SVM for 2nd classifier is: 1000\n",
      "The weight of L1-penalized SVM for 3rd classifier is: 100\n"
     ]
    }
   ],
   "source": [
    "#SMOTE for counteracting class imbalance\n",
    "sm = SMOTE(kind='svm')\n",
    "X_trnew1, y_trnew1 = sm.fit_sample(X_train, y1_trnc)\n",
    "X_trnew2, y_trnew2 = sm.fit_sample(X_train, y2_trnc)\n",
    "X_trnew3, y_trnew3 = sm.fit_sample(X_train, y3_trnc)\n",
    "\n",
    "\n",
    "#For all labels\n",
    "\n",
    "best_score1 = 0\n",
    "best_score2 = 0\n",
    "best_score3 = 0\n",
    "accuracy_score1 = list()\n",
    "accuracy_score2 = list()\n",
    "accuracy_score3 = list()\n",
    "\n",
    "for log_c in range(-3,4):\n",
    "    c = 10**log_c\n",
    "    linclfr = svm.LinearSVC(C=c, penalty='l1', dual=False, multi_class='ovr')\n",
    "    accuracy_score1.append(cross_val_score(linclfr, X_trnew1, y_trnew1, cv=10, scoring='accuracy').mean())\n",
    "    accuracy_score2.append(cross_val_score(linclfr, X_trnew2, y_trnew2, cv=10, scoring='accuracy').mean())\n",
    "    accuracy_score3.append(cross_val_score(linclfr, X_trnew3, y_trnew3, cv=10, scoring='accuracy').mean())\n",
    "    accuracy1 = max(accuracy_score1)\n",
    "    accuracy2 = max(accuracy_score2)\n",
    "    accuracy3 = max(accuracy_score3)\n",
    "    if accuracy1>best_score1:\n",
    "       best_score1 = accuracy1\n",
    "       best_newc1 = c\n",
    "    if accuracy2>best_score2:\n",
    "       best_score2 = accuracy2\n",
    "       best_newc2 = c\n",
    "    if accuracy3>best_score3:\n",
    "       best_score3 = accuracy3\n",
    "       best_newc3 = c\n",
    "        \n",
    "print('The weight of L1-penalized SVM for 1st classifier is:', best_newc1)\n",
    "print('The weight of L1-penalized SVM for 2nd classifier is:', best_newc2)\n",
    "print('The weight of L1-penalized SVM for 3rd classifier is:', best_newc3)"
   ]
  },
  {
   "cell_type": "code",
   "execution_count": 25,
   "metadata": {},
   "outputs": [],
   "source": [
    "#Training for label1\n",
    "linclfr1 = svm.LinearSVC(C=best_newc1, penalty='l1', dual=False, multi_class='ovr')\n",
    "linclfr1.fit(X_trnew1, y_trnew1)\n",
    "#Prediction for label1\n",
    "y1pred = linclfr1.predict(X_test)\n",
    "\n",
    "#Training for label2\n",
    "linclfr2 = svm.LinearSVC(C=best_newc2, penalty='l1', dual=False, multi_class='ovr')\n",
    "linclfr2.fit(X_trnew2, y_trnew2)\n",
    "#Prediction for label2\n",
    "y2pred = linclfr2.predict(X_test)\n",
    "\n",
    "#Training for label3\n",
    "linclfr3 = svm.LinearSVC(C=best_newc3, penalty='l1', dual=False, multi_class='ovr')\n",
    "linclfr3.fit(X_trnew3, y_trnew3)\n",
    "#Prediction for label3\n",
    "y3pred = linclfr3.predict(X_test)\n",
    "\n",
    "#Dataframe of predicted labels\n",
    "y1pred = pd.DataFrame(y1pred, columns= [0])\n",
    "y2pred = pd.DataFrame(y2pred, columns= [1])\n",
    "y3pred = pd.DataFrame(y3pred, columns= [2])\n",
    "\n",
    "ypred = pd.concat([y1pred, y2pred, y3pred], axis=1)"
   ]
  },
  {
   "cell_type": "code",
   "execution_count": 26,
   "metadata": {},
   "outputs": [
    {
     "name": "stdout",
     "output_type": "stream",
     "text": [
      "The Hamming loss for Linear SVC is 0.11258641689396813\n",
      "The exact match for Linear SVC is 0.8360352014821677\n"
     ]
    }
   ],
   "source": [
    "#Evaluating the classifier\n",
    "#Hamming loss\n",
    "hmloss = hamming_score(y_tstc, ypred)\n",
    "print('The Hamming loss for Linear SVC is', hmloss)\n",
    "\n",
    "#Exact match\n",
    "exactscore = exact_match(y_tstc, ypred)\n",
    "print('The exact match for Linear SVC is', exactscore)"
   ]
  },
  {
   "cell_type": "markdown",
   "metadata": {},
   "source": [
    "Conclusions of classifiers:\n",
    "\n",
    "For SMV SVC:\n",
    "The weight of SVM penalty for 1st classifier is 100\n",
    "The weight of SVM penalty for 2nd classifier is 10\n",
    "The weight of SVM penalty for 3rd classifier is 10\n",
    "\n",
    "Gamma = 1/(2*(sigma^2)) where sigma is the width of the Gaussian kernel\n",
    "Gamma of the Gaussian kernel for 1st classifier is 2   \n",
    "Gamma of the Gaussian kernel for 2nd classifier is 1.388\n",
    "Gamma of the Gaussian kernel for 3rd classifier is 1.388\n",
    "\n",
    "For L1-penalized SVM:\n",
    "The weight of L1-penalized SVM for 1st classifier is 100\n",
    "The weight of L1-penalized SVM for 2nd classifier is 10\n",
    "The weight of L1-penalized SVM for 3rd classifier is 10\n",
    "\n",
    "For L1-penalized SVM with SMOTE:\n",
    "The weight of L1-penalized SVM for 1st classifier is 10\n",
    "The weight of L1-penalized SVM for 2nd classifier is 1000\n",
    "The weight of L1-penalized SVM for 3rd classifier is 100\n",
    "\n",
    "The exact match score for SVM SVC is better than L1-penalized SVM. After applying SMOTE technique the Exact match score of L1-penalized SVM gets reduced as expected. \n",
    "The Hamming Loss of SVM SVC is less than L1_penalized SVM and L1-penalized SVM with SMOTE technique has more Hamming Loss compared to L1-penalized SVM without SMOTE. "
   ]
  },
  {
   "cell_type": "markdown",
   "metadata": {},
   "source": [
    "b(v) Solving the multiclass multilabel classification problem using classifer chain method."
   ]
  },
  {
   "cell_type": "code",
   "execution_count": 36,
   "metadata": {},
   "outputs": [
    {
     "name": "stdout",
     "output_type": "stream",
     "text": [
      "The weight of SVM penalty for 1st classifier: 100\n",
      "The width of the Gaussian kernel for 1st classifier is: 2.0\n",
      "The weight of SVM penalty for 2nd classifier is: 10\n",
      "The width of the Gaussian kernel for 2nd classifier is: 0.41322314049586784\n",
      "The weight of SVM penalty for 3rd classifier is: 10\n",
      "The width of the Gaussian kernel for 3rd classifier is: 0.3472222222222222\n"
     ]
    }
   ],
   "source": [
    "#Extra Practice \n",
    "\n",
    "# Classifier chain method on SVM SVC\n",
    "\n",
    "#For all labels\n",
    "best_score1 = 0\n",
    "best_score2 = 0\n",
    "best_score3 = 0\n",
    "for log_c in range(-3,4):\n",
    "    sigma = .1\n",
    "    while sigma<=2:  \n",
    "        g = 1/(2*(sigma**2))\n",
    "        c = 10**log_c\n",
    "        clfr = svm.SVC(C=c, decision_function_shape='ovr', gamma=g)\n",
    "        accuracy1 = cross_val_score(clfr, X_train, y1_trnc, cv=10, scoring='accuracy').mean()\n",
    "        accuracy2 = cross_val_score(clfr, X_traincc1, y2_trnc, cv=10, scoring='accuracy').mean()\n",
    "        accuracy3 = cross_val_score(clfr, X_traincc2, y3_trnc, cv=10, scoring='accuracy').mean()\n",
    "        sigma = sigma + .1\n",
    "        if accuracy1 > best_score1:\n",
    "            best_score1 = accuracy1\n",
    "            best_c1 = c\n",
    "            best_gamma1 = g\n",
    "        if accuracy2 > best_score2:\n",
    "            best_score2 = accuracy2\n",
    "            best_c2 = c\n",
    "            best_gamma2 = g\n",
    "        if accuracy3 > best_score3:\n",
    "            best_score3 = accuracy3\n",
    "            best_c3 = c\n",
    "            best_gamma3 = g\n",
    "        \n",
    "print('The weight of SVM penalty for 1st classifier:', best_c1)\n",
    "print('The width of the Gaussian kernel for 1st classifier is:', best_gamma1)\n",
    "\n",
    "print('The weight of SVM penalty for 2nd classifier is:', best_c2)\n",
    "print('The width of the Gaussian kernel for 2nd classifier is:', best_gamma2)\n",
    "\n",
    "print('The weight of SVM penalty for 3rd classifier is:', best_c3)\n",
    "print('The width of the Gaussian kernel for 3rd classifier is:', best_gamma3)"
   ]
  },
  {
   "cell_type": "code",
   "execution_count": 84,
   "metadata": {},
   "outputs": [],
   "source": [
    "X_testcc = np.array(X_test)\n",
    "#Training for label1\n",
    "clfr = svm.SVC(C=best_c1, decision_function_shape='ovr', gamma=best_gamma1)\n",
    "clfr.fit(X_train, y1_trnc)\n",
    "\n",
    "#Prediction for label1\n",
    "y1pred = clfr.predict(X_testcc)\n",
    "y1pred = np.array([y1pred])\n",
    "y1pred = np.transpose(y1pred)\n",
    "#print(y1pred)\n",
    "\n",
    "X_testcc1 = np.hstack((X_testcc, y1pred))\n",
    "#Training for label2\n",
    "clfr = svm.SVC(C=best_c2, decision_function_shape='ovr', gamma=best_gamma2)\n",
    "clfr.fit(X_traincc1, y2_trnc)\n",
    "\n",
    "#Prediction for label2\n",
    "y2pred = clfr.predict(X_testcc1)\n",
    "y2pred = np.array([y2pred])\n",
    "y2pred = np.transpose(y2pred)\n",
    "\n",
    "X_testcc2 = np.hstack((X_testcc1, y2pred))\n",
    "\n",
    "#Training for label3\n",
    "clfr = svm.SVC(C=best_c3, decision_function_shape='ovr', gamma=best_gamma3)\n",
    "clfr.fit(X_traincc2, y3_trnc)\n",
    "\n",
    "#Prediction for label3\n",
    "y3pred = clfr.predict(X_testcc2)\n",
    "\n",
    "#Dataframe of predicted labels\n",
    "y1pred = pd.DataFrame(y1pred, columns= [0])\n",
    "y2pred = pd.DataFrame(y2pred, columns= [1])\n",
    "y3pred = pd.DataFrame(y3pred, columns= [2])\n",
    "\n",
    "ypred = pd.concat([y1pred, y2pred, y3pred], axis=1)"
   ]
  },
  {
   "cell_type": "code",
   "execution_count": 85,
   "metadata": {},
   "outputs": [
    {
     "name": "stdout",
     "output_type": "stream",
     "text": [
      "The Hamming loss for svm with gaussian kernel is 0.009177774346834092\n",
      "The exact match for svm with gaussian kernel is 0.9916628068550255\n"
     ]
    }
   ],
   "source": [
    "#Evaluating the classifier\n",
    "\n",
    "#Hamming loss\n",
    "hmloss = hamming_score(y_tstc, ypred)\n",
    "print('The Hamming loss for svm with gaussian kernel is', hmloss)\n",
    "\n",
    "#Exact match\n",
    "exactscore = exact_match(y_tstc, ypred)\n",
    "print('The exact match for svm with gaussian kernel is', exactscore)"
   ]
  }
 ],
 "metadata": {
  "kernelspec": {
   "display_name": "Python 3",
   "language": "python",
   "name": "python3"
  },
  "language_info": {
   "codemirror_mode": {
    "name": "ipython",
    "version": 3
   },
   "file_extension": ".py",
   "mimetype": "text/x-python",
   "name": "python",
   "nbconvert_exporter": "python",
   "pygments_lexer": "ipython3",
   "version": "3.6.5"
  }
 },
 "nbformat": 4,
 "nbformat_minor": 2
}
